{
 "cells": [
  {
   "cell_type": "markdown",
   "id": "45f8a064",
   "metadata": {},
   "source": [
    "## Stage 2 – Encoding Fitur Kategorik & Simpan Encoder (Klasifikasi)"
   ]
  },
  {
   "cell_type": "markdown",
   "id": "d9addcbf",
   "metadata": {},
   "source": [
    "#### Langkah 2.1 – Pisahkan Fitur & Target"
   ]
  },
  {
   "cell_type": "code",
   "execution_count": 1,
   "id": "767a7476",
   "metadata": {},
   "outputs": [],
   "source": [
    "import pandas as pd\n",
    "import joblib\n",
    "from sklearn.preprocessing import LabelEncoder\n",
    "import os\n",
    "\n",
    "# Buat folder model jika belum ada\n",
    "os.makedirs('../model', exist_ok=True)\n",
    "\n",
    "# Load data\n",
    "df = pd.read_csv('../data/restaurant_profitability.csv', sep = ';')  # atau sesuaikan dengan path file kamu\n",
    "\n",
    "# Encode target (ulang dari Stage 1)\n",
    "le_target = LabelEncoder()\n",
    "df['Profitability'] = le_target.fit_transform(df['Profitability'])"
   ]
  },
  {
   "cell_type": "code",
   "execution_count": 2,
   "id": "849fca70",
   "metadata": {},
   "outputs": [],
   "source": [
    "X = df.drop(columns='Profitability')\n",
    "y = df['Profitability']"
   ]
  },
  {
   "cell_type": "markdown",
   "id": "0b316358",
   "metadata": {},
   "source": [
    "#### Langkah 2.2 – Encode Fitur Kategorik (LabelEncoder)\n"
   ]
  },
  {
   "cell_type": "code",
   "execution_count": 3,
   "id": "4aeedd8d",
   "metadata": {},
   "outputs": [
    {
     "data": {
      "text/plain": [
       "['../model/le_ingredients.pkl']"
      ]
     },
     "execution_count": 3,
     "metadata": {},
     "output_type": "execute_result"
    }
   ],
   "source": [
    "from sklearn.preprocessing import LabelEncoder\n",
    "import joblib\n",
    "import os\n",
    "\n",
    "# Pastikan folder model ada\n",
    "os.makedirs('../model', exist_ok=True)\n",
    "\n",
    "# Buat encoder untuk tiap kolom kategorik\n",
    "le_restaurant = LabelEncoder()\n",
    "le_menucategory = LabelEncoder()\n",
    "le_menuitem = LabelEncoder()\n",
    "le_ingredients = LabelEncoder()\n",
    "\n",
    "# Encode dan simpan hasilnya\n",
    "X['RestaurantID'] = le_restaurant.fit_transform(X['RestaurantID'])\n",
    "X['MenuCategory'] = le_menucategory.fit_transform(X['MenuCategory'])\n",
    "X['MenuItem'] = le_menuitem.fit_transform(X['MenuItem'])\n",
    "X['Ingredients'] = le_ingredients.fit_transform(X['Ingredients'])\n",
    "\n",
    "# Simpan encoder-nya untuk deploy nanti\n",
    "joblib.dump(le_restaurant, '../model/le_restaurantid.pkl')\n",
    "joblib.dump(le_menucategory, '../model/le_menucategory.pkl')\n",
    "joblib.dump(le_menuitem, '../model/le_menuitem.pkl')\n",
    "joblib.dump(le_ingredients, '../model/le_ingredients.pkl')\n"
   ]
  },
  {
   "cell_type": "markdown",
   "id": "a845f5ab",
   "metadata": {},
   "source": [
    "#### Langkah 2.3 – Gabungkan Data Siap Modeling"
   ]
  },
  {
   "cell_type": "code",
   "execution_count": 4,
   "id": "cffb8f05",
   "metadata": {},
   "outputs": [
    {
     "data": {
      "text/html": [
       "<div>\n",
       "<style scoped>\n",
       "    .dataframe tbody tr th:only-of-type {\n",
       "        vertical-align: middle;\n",
       "    }\n",
       "\n",
       "    .dataframe tbody tr th {\n",
       "        vertical-align: top;\n",
       "    }\n",
       "\n",
       "    .dataframe thead th {\n",
       "        text-align: right;\n",
       "    }\n",
       "</style>\n",
       "<table border=\"1\" class=\"dataframe\">\n",
       "  <thead>\n",
       "    <tr style=\"text-align: right;\">\n",
       "      <th></th>\n",
       "      <th>RestaurantID</th>\n",
       "      <th>MenuCategory</th>\n",
       "      <th>MenuItem</th>\n",
       "      <th>Ingredients</th>\n",
       "      <th>Price</th>\n",
       "      <th>Profitability</th>\n",
       "    </tr>\n",
       "  </thead>\n",
       "  <tbody>\n",
       "    <tr>\n",
       "      <th>0</th>\n",
       "      <td>2</td>\n",
       "      <td>1</td>\n",
       "      <td>11</td>\n",
       "      <td>3</td>\n",
       "      <td>2.55</td>\n",
       "      <td>1</td>\n",
       "    </tr>\n",
       "    <tr>\n",
       "      <th>1</th>\n",
       "      <td>0</td>\n",
       "      <td>0</td>\n",
       "      <td>12</td>\n",
       "      <td>2</td>\n",
       "      <td>11.12</td>\n",
       "      <td>2</td>\n",
       "    </tr>\n",
       "    <tr>\n",
       "      <th>2</th>\n",
       "      <td>2</td>\n",
       "      <td>2</td>\n",
       "      <td>9</td>\n",
       "      <td>1</td>\n",
       "      <td>18.66</td>\n",
       "      <td>0</td>\n",
       "    </tr>\n",
       "    <tr>\n",
       "      <th>3</th>\n",
       "      <td>2</td>\n",
       "      <td>3</td>\n",
       "      <td>2</td>\n",
       "      <td>0</td>\n",
       "      <td>29.55</td>\n",
       "      <td>0</td>\n",
       "    </tr>\n",
       "    <tr>\n",
       "      <th>4</th>\n",
       "      <td>1</td>\n",
       "      <td>3</td>\n",
       "      <td>6</td>\n",
       "      <td>0</td>\n",
       "      <td>17.73</td>\n",
       "      <td>2</td>\n",
       "    </tr>\n",
       "  </tbody>\n",
       "</table>\n",
       "</div>"
      ],
      "text/plain": [
       "   RestaurantID  MenuCategory  MenuItem  Ingredients  Price  Profitability\n",
       "0             2             1        11            3   2.55              1\n",
       "1             0             0        12            2  11.12              2\n",
       "2             2             2         9            1  18.66              0\n",
       "3             2             3         2            0  29.55              0\n",
       "4             1             3         6            0  17.73              2"
      ]
     },
     "execution_count": 4,
     "metadata": {},
     "output_type": "execute_result"
    }
   ],
   "source": [
    "df_model = X.copy()\n",
    "df_model['Profitability'] = y  # y sudah numeric dari Stage 1\n",
    "df_model.head()"
   ]
  }
 ],
 "metadata": {
  "kernelspec": {
   "display_name": "daeng",
   "language": "python",
   "name": "python3"
  },
  "language_info": {
   "codemirror_mode": {
    "name": "ipython",
    "version": 3
   },
   "file_extension": ".py",
   "mimetype": "text/x-python",
   "name": "python",
   "nbconvert_exporter": "python",
   "pygments_lexer": "ipython3",
   "version": "3.11.11"
  }
 },
 "nbformat": 4,
 "nbformat_minor": 5
}
